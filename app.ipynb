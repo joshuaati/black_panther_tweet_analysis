{
 "cells": [
  {
   "cell_type": "code",
   "execution_count": 12,
   "metadata": {},
   "outputs": [],
   "source": [
    "#importing modules\n",
    "import tweepy\n",
    "import pandas as pd\n",
    "import numpy as np\n",
    "import matplotlib.pyplot as plt\n",
    "import seaborn as sns\n"
   ]
  },
  {
   "cell_type": "code",
   "execution_count": 13,
   "metadata": {},
   "outputs": [],
   "source": [
    "#twitter api keys\n",
    "auth = tweepy.OAuth1UserHandler(\n",
    "   'ObDcu9DovwyYkx5w5tJouFGvP', '6A2UhUI9YpVis96xea1xmZqR5b2JIMIpUAOQIjJBaNPkINwnOj', '459226572-g5WB6p6QAcVciJ50uN6SLTRVfZKDqS0Bcp4bFGqd', 'jzFTq24nII5LUsG0FjsSCsrS0GLWN5ZK5BPIMfiJceUls')\n",
    "\n",
    "api = tweepy.API(auth, wait_on_rate_limit=True)\n"
   ]
  },
  {
   "cell_type": "code",
   "execution_count": 14,
   "metadata": {},
   "outputs": [],
   "source": [
    "search_words = \"#wakandaforever OR #WakandaForever OR #blackpanther OR #WakandaForeverID OR #BlackPantherWakandaForever OR #BlackPanther OR #BlackPanther2\"\n",
    "search_query = search_words + \" -filter:retweets AND -filter:replies\""
   ]
  },
  {
   "cell_type": "code",
   "execution_count": 15,
   "metadata": {},
   "outputs": [],
   "source": [
    "limit = 100000\n",
    "tweets = tweepy.Cursor(api.search_tweets, q=search_query, tweet_mode='extended').items(limit)"
   ]
  },
  {
   "cell_type": "code",
   "execution_count": 16,
   "metadata": {},
   "outputs": [
    {
     "name": "stderr",
     "output_type": "stream",
     "text": [
      "Rate limit reached. Sleeping for: 750\n",
      "Rate limit reached. Sleeping for: 759\n",
      "Rate limit reached. Sleeping for: 754\n",
      "Rate limit reached. Sleeping for: 757\n",
      "Rate limit reached. Sleeping for: 765\n",
      "Rate limit reached. Sleeping for: 772\n",
      "Rate limit reached. Sleeping for: 758\n",
      "Rate limit reached. Sleeping for: 763\n",
      "Rate limit reached. Sleeping for: 763\n",
      "Rate limit reached. Sleeping for: 762\n",
      "Rate limit reached. Sleeping for: 747\n",
      "Rate limit reached. Sleeping for: 751\n"
     ]
    }
   ],
   "source": [
    "data=[]\n",
    "for tweet in tweets:\n",
    "    data.append([tweet.id,tweet.user.screen_name, tweet.created_at, tweet.full_text,tweet.user.location, tweet.retweet_count,tweet.favorite_count, tweet.user.followers_count, tweet.user.friends_count, tweet.user.verified, tweet.source])"
   ]
  },
  {
   "cell_type": "code",
   "execution_count": 17,
   "metadata": {},
   "outputs": [],
   "source": [
    "columns =['id','username','time_of_tweet', 'tweet', 'location', 'retweets', 'likes', 'followers', 'following', 'verified', 'tweet_source']\n",
    "bp_tweets=pd.DataFrame(data, columns=columns)\n",
    "bp_tweets.to_csv(\"BlackPanther-24-11.csv\")"
   ]
  },
  {
   "cell_type": "code",
   "execution_count": 18,
   "metadata": {},
   "outputs": [],
   "source": []
  },
  {
   "cell_type": "code",
   "execution_count": 19,
   "metadata": {},
   "outputs": [],
   "source": []
  },
  {
   "cell_type": "code",
   "execution_count": null,
   "metadata": {},
   "outputs": [],
   "source": []
  }
 ],
 "metadata": {
  "kernelspec": {
   "display_name": "Python 3.9.12 ('base')",
   "language": "python",
   "name": "python3"
  },
  "language_info": {
   "codemirror_mode": {
    "name": "ipython",
    "version": 3
   },
   "file_extension": ".py",
   "mimetype": "text/x-python",
   "name": "python",
   "nbconvert_exporter": "python",
   "pygments_lexer": "ipython3",
   "version": "3.9.12"
  },
  "orig_nbformat": 4,
  "vscode": {
   "interpreter": {
    "hash": "ad2bdc8ecc057115af97d19610ffacc2b4e99fae6737bb82f5d7fb13d2f2c186"
   }
  }
 },
 "nbformat": 4,
 "nbformat_minor": 2
}
