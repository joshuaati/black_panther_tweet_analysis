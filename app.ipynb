{
 "cells": [
  {
   "cell_type": "code",
   "execution_count": 127,
   "metadata": {},
   "outputs": [
    {
     "name": "stderr",
     "output_type": "stream",
     "text": [
      "[nltk_data] Error loading puntk: Package 'puntk' not found in index\n"
     ]
    },
    {
     "data": {
      "text/plain": [
       "False"
      ]
     },
     "execution_count": 127,
     "metadata": {},
     "output_type": "execute_result"
    }
   ],
   "source": [
    "#importing modules\n",
    "import tweepy\n",
    "import pandas as pd\n",
    "import numpy as np\n",
    "import matplotlib.pyplot as plt\n",
    "import seaborn as sns\n",
    "import re\n",
    "\n",
    "\n",
    "from langdetect import detect_langs\n",
    "from nltk.tokenize import word_tokenize\n",
    "import nltk\n"
   ]
  },
  {
   "cell_type": "code",
   "execution_count": null,
   "metadata": {},
   "outputs": [],
   "source": [
    "#twitter api keys\n",
    "auth = tweepy.OAuth1UserHandler(\n",
    "   'ObDcu9DovwyYkx5w5tJouFGvP', '6A2UhUI9YpVis96xea1xmZqR5b2JIMIpUAOQIjJBaNPkINwnOj', '459226572-g5WB6p6QAcVciJ50uN6SLTRVfZKDqS0Bcp4bFGqd', 'jzFTq24nII5LUsG0FjsSCsrS0GLWN5ZK5BPIMfiJceUls')\n",
    "\n",
    "api = tweepy.API(auth, wait_on_rate_limit=True)\n"
   ]
  },
  {
   "cell_type": "code",
   "execution_count": null,
   "metadata": {},
   "outputs": [],
   "source": [
    "search_words = \"#wakandaforever OR #WakandaForever OR #blackpanther OR #WakandaForeverID OR #BlackPantherWakandaForever OR #BlackPanther OR #BlackPanther2\"\n",
    "search_query = search_words + \" -filter:retweets AND -filter:replies\""
   ]
  },
  {
   "cell_type": "code",
   "execution_count": null,
   "metadata": {},
   "outputs": [],
   "source": [
    "limit = 100000\n",
    "tweets = tweepy.Cursor(api.search_tweets, q=search_query, tweet_mode='extended').items(limit)"
   ]
  },
  {
   "cell_type": "code",
   "execution_count": null,
   "metadata": {},
   "outputs": [],
   "source": [
    "data=[]\n",
    "for tweet in tweets:\n",
    "    data.append([tweet.id,tweet.user.screen_name, tweet.created_at, tweet.full_text,tweet.user.location, tweet.retweet_count,tweet.favorite_count, tweet.user.followers_count, tweet.user.friends_count, tweet.user.verified, tweet.source])"
   ]
  },
  {
   "cell_type": "code",
   "execution_count": null,
   "metadata": {},
   "outputs": [],
   "source": [
    "columns =['id','username','time_of_tweet', 'tweet', 'location', 'retweets', 'likes', 'followers', 'following', 'verified', 'tweet_source']\n",
    "bp_tweets=pd.DataFrame(data, columns=columns)\n",
    "bp_tweets.to_csv(\"BlackPanther-24-11.csv\")"
   ]
  },
  {
   "cell_type": "code",
   "execution_count": 2,
   "metadata": {},
   "outputs": [
    {
     "data": {
      "text/html": [
       "<div>\n",
       "<style scoped>\n",
       "    .dataframe tbody tr th:only-of-type {\n",
       "        vertical-align: middle;\n",
       "    }\n",
       "\n",
       "    .dataframe tbody tr th {\n",
       "        vertical-align: top;\n",
       "    }\n",
       "\n",
       "    .dataframe thead th {\n",
       "        text-align: right;\n",
       "    }\n",
       "</style>\n",
       "<table border=\"1\" class=\"dataframe\">\n",
       "  <thead>\n",
       "    <tr style=\"text-align: right;\">\n",
       "      <th></th>\n",
       "      <th>Unnamed: 0</th>\n",
       "      <th>id</th>\n",
       "      <th>username</th>\n",
       "      <th>time_of_tweet</th>\n",
       "      <th>tweet</th>\n",
       "      <th>location</th>\n",
       "      <th>retweets</th>\n",
       "      <th>likes</th>\n",
       "      <th>followers</th>\n",
       "      <th>following</th>\n",
       "      <th>verified</th>\n",
       "      <th>tweet_source</th>\n",
       "    </tr>\n",
       "  </thead>\n",
       "  <tbody>\n",
       "    <tr>\n",
       "      <th>30098</th>\n",
       "      <td>30098</td>\n",
       "      <td>1592942899159011328</td>\n",
       "      <td>GeekWatchOne</td>\n",
       "      <td>2022-11-16 18:09:17+00:00</td>\n",
       "      <td>Of course, we're reviewing #BlackPanther #Waka...</td>\n",
       "      <td>Ohio</td>\n",
       "      <td>1</td>\n",
       "      <td>2</td>\n",
       "      <td>1653</td>\n",
       "      <td>1051</td>\n",
       "      <td>False</td>\n",
       "      <td>Twitter Web App</td>\n",
       "    </tr>\n",
       "    <tr>\n",
       "      <th>32801</th>\n",
       "      <td>32801</td>\n",
       "      <td>1592770765346439168</td>\n",
       "      <td>tweetticator</td>\n",
       "      <td>2022-11-16 06:45:17+00:00</td>\n",
       "      <td>Black women rulers in the history of the Yorub...</td>\n",
       "      <td>NaN</td>\n",
       "      <td>0</td>\n",
       "      <td>2</td>\n",
       "      <td>626</td>\n",
       "      <td>89</td>\n",
       "      <td>False</td>\n",
       "      <td>Twitter Web App</td>\n",
       "    </tr>\n",
       "    <tr>\n",
       "      <th>34238</th>\n",
       "      <td>34238</td>\n",
       "      <td>1592709251797028869</td>\n",
       "      <td>BTO353</td>\n",
       "      <td>2022-11-16 02:40:51+00:00</td>\n",
       "      <td>Stan lee the creator of #Blackpanther https://...</td>\n",
       "      <td>NaN</td>\n",
       "      <td>0</td>\n",
       "      <td>0</td>\n",
       "      <td>67</td>\n",
       "      <td>329</td>\n",
       "      <td>False</td>\n",
       "      <td>Twitter for iPhone</td>\n",
       "    </tr>\n",
       "    <tr>\n",
       "      <th>23556</th>\n",
       "      <td>23556</td>\n",
       "      <td>1593353475483701248</td>\n",
       "      <td>Josh_Johnson79</td>\n",
       "      <td>2022-11-17 21:20:46+00:00</td>\n",
       "      <td>NAMOR AINT PLAYIN #BlackPanther</td>\n",
       "      <td>Irmo,SC</td>\n",
       "      <td>0</td>\n",
       "      <td>0</td>\n",
       "      <td>446</td>\n",
       "      <td>822</td>\n",
       "      <td>False</td>\n",
       "      <td>Twitter for iPhone</td>\n",
       "    </tr>\n",
       "    <tr>\n",
       "      <th>29533</th>\n",
       "      <td>29533</td>\n",
       "      <td>1592970801271214080</td>\n",
       "      <td>Disney_Insiders</td>\n",
       "      <td>2022-11-16 20:00:09+00:00</td>\n",
       "      <td>Return to Wakanda.\\n\\nMarvel Studios’ Black Pa...</td>\n",
       "      <td>NaN</td>\n",
       "      <td>56</td>\n",
       "      <td>785</td>\n",
       "      <td>76184</td>\n",
       "      <td>43</td>\n",
       "      <td>True</td>\n",
       "      <td>Sprinklr</td>\n",
       "    </tr>\n",
       "    <tr>\n",
       "      <th>28249</th>\n",
       "      <td>28249</td>\n",
       "      <td>1593028249076256770</td>\n",
       "      <td>Wheeljack83</td>\n",
       "      <td>2022-11-16 23:48:26+00:00</td>\n",
       "      <td>Delicious refreshments and pastries at today’s...</td>\n",
       "      <td>Los Angeles, CA</td>\n",
       "      <td>0</td>\n",
       "      <td>2</td>\n",
       "      <td>471</td>\n",
       "      <td>323</td>\n",
       "      <td>False</td>\n",
       "      <td>Twitter for iPhone</td>\n",
       "    </tr>\n",
       "    <tr>\n",
       "      <th>16190</th>\n",
       "      <td>16190</td>\n",
       "      <td>1594008040071745537</td>\n",
       "      <td>david_jgpeoples</td>\n",
       "      <td>2022-11-19 16:41:46+00:00</td>\n",
       "      <td>I didn’t expect many surprises in #WakandaFore...</td>\n",
       "      <td>NaN</td>\n",
       "      <td>0</td>\n",
       "      <td>2</td>\n",
       "      <td>71</td>\n",
       "      <td>43</td>\n",
       "      <td>False</td>\n",
       "      <td>Twitter for iPhone</td>\n",
       "    </tr>\n",
       "    <tr>\n",
       "      <th>5609</th>\n",
       "      <td>5609</td>\n",
       "      <td>1594874420694245376</td>\n",
       "      <td>TheGoldinChyld</td>\n",
       "      <td>2022-11-22 02:04:27+00:00</td>\n",
       "      <td>#BlackPanther\\n#TChalla\\n#WakandaForever https...</td>\n",
       "      <td>NaN</td>\n",
       "      <td>0</td>\n",
       "      <td>0</td>\n",
       "      <td>179</td>\n",
       "      <td>809</td>\n",
       "      <td>False</td>\n",
       "      <td>Twitter for Android</td>\n",
       "    </tr>\n",
       "    <tr>\n",
       "      <th>8768</th>\n",
       "      <td>8768</td>\n",
       "      <td>1594520818817667077</td>\n",
       "      <td>kathia_woods</td>\n",
       "      <td>2022-11-21 02:39:22+00:00</td>\n",
       "      <td>No petition or hate shall keep us from the mon...</td>\n",
       "      <td>Philadelphia, PA</td>\n",
       "      <td>2</td>\n",
       "      <td>14</td>\n",
       "      <td>4803</td>\n",
       "      <td>3884</td>\n",
       "      <td>False</td>\n",
       "      <td>Twitter for iPhone</td>\n",
       "    </tr>\n",
       "    <tr>\n",
       "      <th>27904</th>\n",
       "      <td>27904</td>\n",
       "      <td>1593046525516865536</td>\n",
       "      <td>gnurpiyani</td>\n",
       "      <td>2022-11-17 01:01:03+00:00</td>\n",
       "      <td>Saya telah mengirimkan #ShopeePayTHR 🧧. Ayo, a...</td>\n",
       "      <td>NaN</td>\n",
       "      <td>0</td>\n",
       "      <td>0</td>\n",
       "      <td>618</td>\n",
       "      <td>398</td>\n",
       "      <td>False</td>\n",
       "      <td>Twitter for iPhone</td>\n",
       "    </tr>\n",
       "  </tbody>\n",
       "</table>\n",
       "</div>"
      ],
      "text/plain": [
       "       Unnamed: 0                   id         username  \\\n",
       "30098       30098  1592942899159011328     GeekWatchOne   \n",
       "32801       32801  1592770765346439168     tweetticator   \n",
       "34238       34238  1592709251797028869           BTO353   \n",
       "23556       23556  1593353475483701248   Josh_Johnson79   \n",
       "29533       29533  1592970801271214080  Disney_Insiders   \n",
       "28249       28249  1593028249076256770      Wheeljack83   \n",
       "16190       16190  1594008040071745537  david_jgpeoples   \n",
       "5609         5609  1594874420694245376   TheGoldinChyld   \n",
       "8768         8768  1594520818817667077     kathia_woods   \n",
       "27904       27904  1593046525516865536       gnurpiyani   \n",
       "\n",
       "                   time_of_tweet  \\\n",
       "30098  2022-11-16 18:09:17+00:00   \n",
       "32801  2022-11-16 06:45:17+00:00   \n",
       "34238  2022-11-16 02:40:51+00:00   \n",
       "23556  2022-11-17 21:20:46+00:00   \n",
       "29533  2022-11-16 20:00:09+00:00   \n",
       "28249  2022-11-16 23:48:26+00:00   \n",
       "16190  2022-11-19 16:41:46+00:00   \n",
       "5609   2022-11-22 02:04:27+00:00   \n",
       "8768   2022-11-21 02:39:22+00:00   \n",
       "27904  2022-11-17 01:01:03+00:00   \n",
       "\n",
       "                                                   tweet          location  \\\n",
       "30098  Of course, we're reviewing #BlackPanther #Waka...              Ohio   \n",
       "32801  Black women rulers in the history of the Yorub...               NaN   \n",
       "34238  Stan lee the creator of #Blackpanther https://...               NaN   \n",
       "23556                    NAMOR AINT PLAYIN #BlackPanther           Irmo,SC   \n",
       "29533  Return to Wakanda.\\n\\nMarvel Studios’ Black Pa...               NaN   \n",
       "28249  Delicious refreshments and pastries at today’s...   Los Angeles, CA   \n",
       "16190  I didn’t expect many surprises in #WakandaFore...               NaN   \n",
       "5609   #BlackPanther\\n#TChalla\\n#WakandaForever https...               NaN   \n",
       "8768   No petition or hate shall keep us from the mon...  Philadelphia, PA   \n",
       "27904  Saya telah mengirimkan #ShopeePayTHR 🧧. Ayo, a...               NaN   \n",
       "\n",
       "       retweets  likes  followers  following  verified         tweet_source  \n",
       "30098         1      2       1653       1051     False      Twitter Web App  \n",
       "32801         0      2        626         89     False      Twitter Web App  \n",
       "34238         0      0         67        329     False   Twitter for iPhone  \n",
       "23556         0      0        446        822     False   Twitter for iPhone  \n",
       "29533        56    785      76184         43      True             Sprinklr  \n",
       "28249         0      2        471        323     False   Twitter for iPhone  \n",
       "16190         0      2         71         43     False   Twitter for iPhone  \n",
       "5609          0      0        179        809     False  Twitter for Android  \n",
       "8768          2     14       4803       3884     False   Twitter for iPhone  \n",
       "27904         0      0        618        398     False   Twitter for iPhone  "
      ]
     },
     "execution_count": 2,
     "metadata": {},
     "output_type": "execute_result"
    }
   ],
   "source": [
    "tweets = pd.read_csv('BlackPanther-24-11.csv')\n",
    "tweets.sample(10)"
   ]
  },
  {
   "cell_type": "code",
   "execution_count": null,
   "metadata": {},
   "outputs": [],
   "source": [
    "tweets.info()"
   ]
  },
  {
   "cell_type": "code",
   "execution_count": null,
   "metadata": {},
   "outputs": [],
   "source": [
    "tweets.head()"
   ]
  },
  {
   "cell_type": "code",
   "execution_count": 15,
   "metadata": {},
   "outputs": [],
   "source": [
    "tweets.drop(columns='Unnamed: 0', inplace = True)"
   ]
  },
  {
   "cell_type": "code",
   "execution_count": 17,
   "metadata": {},
   "outputs": [],
   "source": [
    "tweets['location'].fillna('None', inplace=True)"
   ]
  },
  {
   "cell_type": "code",
   "execution_count": 21,
   "metadata": {},
   "outputs": [],
   "source": [
    "tweets['time_of_tweet'] = tweets['time_of_tweet'].astype('datetime64')"
   ]
  },
  {
   "cell_type": "code",
   "execution_count": 181,
   "metadata": {},
   "outputs": [],
   "source": [
    "def get_hash(tweet):\n",
    "    tweet = re.findall(r'\\#\\w+', tweet)\n",
    "    return \" \".join(tweet)"
   ]
  },
  {
   "cell_type": "code",
   "execution_count": 182,
   "metadata": {},
   "outputs": [],
   "source": [
    "tweets['hashtags'] = tweets['tweet'].apply(get_hash)\n"
   ]
  },
  {
   "cell_type": "code",
   "execution_count": 185,
   "metadata": {},
   "outputs": [
    {
     "data": {
      "text/plain": [
       "#WakandaForever                20990\n",
       "#BlackPanther                   9316\n",
       "#BlackPantherWakandaForever     5887\n",
       "#wakandaforever                 1997\n",
       "#Namor                          1746\n",
       "#blackpanther                   1297\n",
       "#Marvel                         1211\n",
       "#BlackPanther2                   998\n",
       "#WakandaForeverID                978\n",
       "#MarvelStudios                   808\n",
       "dtype: int64"
      ]
     },
     "execution_count": 185,
     "metadata": {},
     "output_type": "execute_result"
    }
   ],
   "source": [
    "hashtags = pd.Series(\" \".join(tweets['hashtags']).split()).value_counts()\n",
    "hashtags[:10]"
   ]
  },
  {
   "cell_type": "code",
   "execution_count": 10,
   "metadata": {},
   "outputs": [],
   "source": [
    "def get_languages(tweet):\n",
    "    try:\n",
    "        tweet = detect_langs(tweet)\n",
    "    except: \n",
    "        tweet = \"nolang\"\n",
    "    tweet = str(tweet).split(':')[0][1:]\n",
    "    return tweet"
   ]
  },
  {
   "cell_type": "code",
   "execution_count": 11,
   "metadata": {},
   "outputs": [],
   "source": [
    "tweets['language'] = tweets['tweet'].apply(get_languages)"
   ]
  },
  {
   "cell_type": "code",
   "execution_count": 14,
   "metadata": {},
   "outputs": [
    {
     "data": {
      "text/plain": [
       "en    24188\n",
       "es     3334\n",
       "da     1493\n",
       "pt     1456\n",
       "fr      776\n",
       "id      512\n",
       "ja      473\n",
       "th      469\n",
       "no      377\n",
       "it      330\n",
       "Name: language, dtype: int64"
      ]
     },
     "execution_count": 14,
     "metadata": {},
     "output_type": "execute_result"
    }
   ],
   "source": [
    "tweets.language.value_counts()[:10]"
   ]
  },
  {
   "cell_type": "code",
   "execution_count": 71,
   "metadata": {},
   "outputs": [],
   "source": [
    "def get_links(tweets):\n",
    "    link = re.findall(r'((http|ftp|https):\\/\\/)(([\\w.-]*)\\.([\\w]*))', tweets)\n",
    "    if len(link) < 1:\n",
    "        return 'No'\n",
    "    else: return 'Yes'\n"
   ]
  },
  {
   "cell_type": "code",
   "execution_count": 72,
   "metadata": {},
   "outputs": [],
   "source": [
    "tweets['contains_media'] = tweets['tweet'].apply(get_links)"
   ]
  },
  {
   "cell_type": "code",
   "execution_count": 73,
   "metadata": {},
   "outputs": [],
   "source": [
    "tweets.contains_media.value_counts()"
   ]
  },
  {
   "cell_type": "code",
   "execution_count": 167,
   "metadata": {},
   "outputs": [],
   "source": [
    "cast = ['namor', 'shuri', 'ironheart', 'ramonda', 'namora', \n",
    "        'okoye', 'aneka', 'nakia', 'mbaku', 'attuma', 'everett', ]\n",
    "\n",
    "\n",
    "def get_cast(tweets):\n",
    "    tweets = tweets.lower()\n",
    "    tokens = word_tokenize(tweets)\n",
    "    cast_names = [name for name in tokens if name in cast]\n",
    "    cast_names_title = [name.title() for name in cast_names]\n",
    "    return \" \".join(cast_names_title)"
   ]
  },
  {
   "cell_type": "code",
   "execution_count": 168,
   "metadata": {},
   "outputs": [],
   "source": [
    "tweets['cast_name'] = tweets['tweet'].apply(get_cast)"
   ]
  },
  {
   "cell_type": "code",
   "execution_count": 177,
   "metadata": {},
   "outputs": [
    {
     "data": {
      "text/plain": [
       "Namor        3953\n",
       "Shuri        1985\n",
       "Okoye         348\n",
       "Namora        295\n",
       "Ironheart     288\n",
       "Nakia         220\n",
       "Ramonda       216\n",
       "Mbaku         202\n",
       "Attuma        123\n",
       "Aneka          53\n",
       "Everett         6\n",
       "dtype: int64"
      ]
     },
     "execution_count": 177,
     "metadata": {},
     "output_type": "execute_result"
    }
   ],
   "source": [
    "names = pd.Series(\" \".join(tweets['cast_name']).split()).value_counts()\n",
    "# names.to_csv('names_freq.csv') ##save the generated dataframe\n",
    "names"
   ]
  },
  {
   "cell_type": "code",
   "execution_count": null,
   "metadata": {},
   "outputs": [],
   "source": []
  },
  {
   "cell_type": "code",
   "execution_count": 163,
   "metadata": {},
   "outputs": [
    {
     "name": "stdout",
     "output_type": "stream",
     "text": [
      "Happy\n"
     ]
    }
   ],
   "source": []
  },
  {
   "cell_type": "code",
   "execution_count": 183,
   "metadata": {},
   "outputs": [
    {
     "data": {
      "text/html": [
       "<div>\n",
       "<style scoped>\n",
       "    .dataframe tbody tr th:only-of-type {\n",
       "        vertical-align: middle;\n",
       "    }\n",
       "\n",
       "    .dataframe tbody tr th {\n",
       "        vertical-align: top;\n",
       "    }\n",
       "\n",
       "    .dataframe thead th {\n",
       "        text-align: right;\n",
       "    }\n",
       "</style>\n",
       "<table border=\"1\" class=\"dataframe\">\n",
       "  <thead>\n",
       "    <tr style=\"text-align: right;\">\n",
       "      <th></th>\n",
       "      <th>id</th>\n",
       "      <th>username</th>\n",
       "      <th>time_of_tweet</th>\n",
       "      <th>tweet</th>\n",
       "      <th>location</th>\n",
       "      <th>retweets</th>\n",
       "      <th>likes</th>\n",
       "      <th>followers</th>\n",
       "      <th>following</th>\n",
       "      <th>verified</th>\n",
       "      <th>tweet_source</th>\n",
       "      <th>language</th>\n",
       "      <th>links</th>\n",
       "      <th>contains_media</th>\n",
       "      <th>cast_name</th>\n",
       "      <th>hashtags</th>\n",
       "    </tr>\n",
       "  </thead>\n",
       "  <tbody>\n",
       "    <tr>\n",
       "      <th>23998</th>\n",
       "      <td>1593322801380851716</td>\n",
       "      <td>AndreeOrtega5</td>\n",
       "      <td>2022-11-17 19:18:53</td>\n",
       "      <td>De septimo arte 🎬🎬🎬📽🎞🎥📼📸📷 #WakandaForeverID #W...</td>\n",
       "      <td>Chone, Ecuador</td>\n",
       "      <td>0</td>\n",
       "      <td>0</td>\n",
       "      <td>323</td>\n",
       "      <td>975</td>\n",
       "      <td>False</td>\n",
       "      <td>Twitter for Android</td>\n",
       "      <td>es</td>\n",
       "      <td>[(https://, https, t.co, t, co)]</td>\n",
       "      <td>Yes</td>\n",
       "      <td></td>\n",
       "      <td>#WakandaForeverID #WakandaPorSiempre #supercine</td>\n",
       "    </tr>\n",
       "    <tr>\n",
       "      <th>1542</th>\n",
       "      <td>1595495246900563968</td>\n",
       "      <td>djshortonesk</td>\n",
       "      <td>2022-11-23 19:11:24</td>\n",
       "      <td>Finally! #blackpanther #WakandaForever #regal ...</td>\n",
       "      <td>SC</td>\n",
       "      <td>0</td>\n",
       "      <td>0</td>\n",
       "      <td>1393</td>\n",
       "      <td>4988</td>\n",
       "      <td>False</td>\n",
       "      <td>Foursquare Swarm</td>\n",
       "      <td>en</td>\n",
       "      <td>[(https://, https, t.co, t, co), (https://, ht...</td>\n",
       "      <td>Yes</td>\n",
       "      <td></td>\n",
       "      <td>#blackpanther #WakandaForever #regal</td>\n",
       "    </tr>\n",
       "    <tr>\n",
       "      <th>17345</th>\n",
       "      <td>1593903062011084800</td>\n",
       "      <td>barnsgf</td>\n",
       "      <td>2022-11-19 09:44:37</td>\n",
       "      <td>spoiler #BlackPanther \\n.\\n.\\n.\\n.\\n.\\n.\\n.\\n....</td>\n",
       "      <td>midgard</td>\n",
       "      <td>0</td>\n",
       "      <td>4</td>\n",
       "      <td>264</td>\n",
       "      <td>287</td>\n",
       "      <td>False</td>\n",
       "      <td>Twitter for iPhone</td>\n",
       "      <td>da</td>\n",
       "      <td>[(https://, https, t.co, t, co)]</td>\n",
       "      <td>Yes</td>\n",
       "      <td></td>\n",
       "      <td>#BlackPanther</td>\n",
       "    </tr>\n",
       "    <tr>\n",
       "      <th>8579</th>\n",
       "      <td>1594537261613592576</td>\n",
       "      <td>guillegoony</td>\n",
       "      <td>2022-11-21 03:44:42</td>\n",
       "      <td>lo primero que pense al ver #WakandaForever fu...</td>\n",
       "      <td>Source</td>\n",
       "      <td>0</td>\n",
       "      <td>0</td>\n",
       "      <td>290</td>\n",
       "      <td>307</td>\n",
       "      <td>False</td>\n",
       "      <td>Twitter for Android</td>\n",
       "      <td>es</td>\n",
       "      <td>[]</td>\n",
       "      <td>No</td>\n",
       "      <td></td>\n",
       "      <td>#WakandaForever</td>\n",
       "    </tr>\n",
       "    <tr>\n",
       "      <th>12605</th>\n",
       "      <td>1594231777429635072</td>\n",
       "      <td>ey_jey_reyes</td>\n",
       "      <td>2022-11-20 07:30:49</td>\n",
       "      <td>Ang ganda ng soundtrack ng #BlackPantherWakand...</td>\n",
       "      <td>Spec in the Universe</td>\n",
       "      <td>0</td>\n",
       "      <td>1</td>\n",
       "      <td>609</td>\n",
       "      <td>408</td>\n",
       "      <td>False</td>\n",
       "      <td>Twitter for Android</td>\n",
       "      <td>tl</td>\n",
       "      <td>[]</td>\n",
       "      <td>No</td>\n",
       "      <td></td>\n",
       "      <td>#BlackPantherWakandaForever</td>\n",
       "    </tr>\n",
       "    <tr>\n",
       "      <th>3228</th>\n",
       "      <td>1595236224058408960</td>\n",
       "      <td>Ernesto_galv</td>\n",
       "      <td>2022-11-23 02:02:08</td>\n",
       "      <td>Just watched #WakandaForever , on one hand sla...</td>\n",
       "      <td>Austin, TX</td>\n",
       "      <td>0</td>\n",
       "      <td>2</td>\n",
       "      <td>26</td>\n",
       "      <td>28</td>\n",
       "      <td>False</td>\n",
       "      <td>Twitter for iPhone</td>\n",
       "      <td>en</td>\n",
       "      <td>[(https://, https, t.co, t, co)]</td>\n",
       "      <td>Yes</td>\n",
       "      <td></td>\n",
       "      <td>#WakandaForever</td>\n",
       "    </tr>\n",
       "    <tr>\n",
       "      <th>10801</th>\n",
       "      <td>1594395883210170368</td>\n",
       "      <td>samueldcarrico</td>\n",
       "      <td>2022-11-20 18:22:55</td>\n",
       "      <td>Watch our review of #wakandaforever here: http...</td>\n",
       "      <td>Tulsa, OK</td>\n",
       "      <td>0</td>\n",
       "      <td>0</td>\n",
       "      <td>463</td>\n",
       "      <td>268</td>\n",
       "      <td>False</td>\n",
       "      <td>Twitter for iPhone</td>\n",
       "      <td>en</td>\n",
       "      <td>[(https://, https, t.co, t, co), (https://, ht...</td>\n",
       "      <td>Yes</td>\n",
       "      <td></td>\n",
       "      <td>#wakandaforever</td>\n",
       "    </tr>\n",
       "    <tr>\n",
       "      <th>12804</th>\n",
       "      <td>1594211260488450048</td>\n",
       "      <td>morely542</td>\n",
       "      <td>2022-11-20 06:09:18</td>\n",
       "      <td>Si tienen la oportunidad de ver #WakandaForeve...</td>\n",
       "      <td>Bogota - Colombia</td>\n",
       "      <td>0</td>\n",
       "      <td>0</td>\n",
       "      <td>184</td>\n",
       "      <td>955</td>\n",
       "      <td>False</td>\n",
       "      <td>Twitter for iPhone</td>\n",
       "      <td>no</td>\n",
       "      <td>[]</td>\n",
       "      <td>No</td>\n",
       "      <td></td>\n",
       "      <td>#WakandaForever</td>\n",
       "    </tr>\n",
       "    <tr>\n",
       "      <th>11825</th>\n",
       "      <td>1594330040660959233</td>\n",
       "      <td>TEEMPTraining</td>\n",
       "      <td>2022-11-20 14:01:17</td>\n",
       "      <td>...The fierceness and strength of @ImAngelaBas...</td>\n",
       "      <td>DC/MD/VA with more reach</td>\n",
       "      <td>0</td>\n",
       "      <td>0</td>\n",
       "      <td>425</td>\n",
       "      <td>1514</td>\n",
       "      <td>False</td>\n",
       "      <td>Twitter Web App</td>\n",
       "      <td>en</td>\n",
       "      <td>[]</td>\n",
       "      <td>No</td>\n",
       "      <td></td>\n",
       "      <td>#WakandaForever #BlackPanther</td>\n",
       "    </tr>\n",
       "    <tr>\n",
       "      <th>19862</th>\n",
       "      <td>1593688842602655745</td>\n",
       "      <td>KiKiumai</td>\n",
       "      <td>2022-11-18 19:33:24</td>\n",
       "      <td>Went to watch #BlackPanther and I cried my eye...</td>\n",
       "      <td>London, England</td>\n",
       "      <td>0</td>\n",
       "      <td>5</td>\n",
       "      <td>984</td>\n",
       "      <td>619</td>\n",
       "      <td>False</td>\n",
       "      <td>Twitter for iPhone</td>\n",
       "      <td>en</td>\n",
       "      <td>[(https://, https, t.co, t, co)]</td>\n",
       "      <td>Yes</td>\n",
       "      <td></td>\n",
       "      <td>#BlackPanther</td>\n",
       "    </tr>\n",
       "  </tbody>\n",
       "</table>\n",
       "</div>"
      ],
      "text/plain": [
       "                        id        username       time_of_tweet  \\\n",
       "23998  1593322801380851716   AndreeOrtega5 2022-11-17 19:18:53   \n",
       "1542   1595495246900563968    djshortonesk 2022-11-23 19:11:24   \n",
       "17345  1593903062011084800         barnsgf 2022-11-19 09:44:37   \n",
       "8579   1594537261613592576     guillegoony 2022-11-21 03:44:42   \n",
       "12605  1594231777429635072    ey_jey_reyes 2022-11-20 07:30:49   \n",
       "3228   1595236224058408960    Ernesto_galv 2022-11-23 02:02:08   \n",
       "10801  1594395883210170368  samueldcarrico 2022-11-20 18:22:55   \n",
       "12804  1594211260488450048       morely542 2022-11-20 06:09:18   \n",
       "11825  1594330040660959233   TEEMPTraining 2022-11-20 14:01:17   \n",
       "19862  1593688842602655745        KiKiumai 2022-11-18 19:33:24   \n",
       "\n",
       "                                                   tweet  \\\n",
       "23998  De septimo arte 🎬🎬🎬📽🎞🎥📼📸📷 #WakandaForeverID #W...   \n",
       "1542   Finally! #blackpanther #WakandaForever #regal ...   \n",
       "17345  spoiler #BlackPanther \\n.\\n.\\n.\\n.\\n.\\n.\\n.\\n....   \n",
       "8579   lo primero que pense al ver #WakandaForever fu...   \n",
       "12605  Ang ganda ng soundtrack ng #BlackPantherWakand...   \n",
       "3228   Just watched #WakandaForever , on one hand sla...   \n",
       "10801  Watch our review of #wakandaforever here: http...   \n",
       "12804  Si tienen la oportunidad de ver #WakandaForeve...   \n",
       "11825  ...The fierceness and strength of @ImAngelaBas...   \n",
       "19862  Went to watch #BlackPanther and I cried my eye...   \n",
       "\n",
       "                       location  retweets  likes  followers  following  \\\n",
       "23998            Chone, Ecuador         0      0        323        975   \n",
       "1542                         SC         0      0       1393       4988   \n",
       "17345                   midgard         0      4        264        287   \n",
       "8579                     Source         0      0        290        307   \n",
       "12605      Spec in the Universe         0      1        609        408   \n",
       "3228                 Austin, TX         0      2         26         28   \n",
       "10801                 Tulsa, OK         0      0        463        268   \n",
       "12804         Bogota - Colombia         0      0        184        955   \n",
       "11825  DC/MD/VA with more reach         0      0        425       1514   \n",
       "19862           London, England         0      5        984        619   \n",
       "\n",
       "       verified         tweet_source language  \\\n",
       "23998     False  Twitter for Android       es   \n",
       "1542      False     Foursquare Swarm       en   \n",
       "17345     False   Twitter for iPhone       da   \n",
       "8579      False  Twitter for Android       es   \n",
       "12605     False  Twitter for Android       tl   \n",
       "3228      False   Twitter for iPhone       en   \n",
       "10801     False   Twitter for iPhone       en   \n",
       "12804     False   Twitter for iPhone       no   \n",
       "11825     False      Twitter Web App       en   \n",
       "19862     False   Twitter for iPhone       en   \n",
       "\n",
       "                                                   links contains_media  \\\n",
       "23998                   [(https://, https, t.co, t, co)]            Yes   \n",
       "1542   [(https://, https, t.co, t, co), (https://, ht...            Yes   \n",
       "17345                   [(https://, https, t.co, t, co)]            Yes   \n",
       "8579                                                  []             No   \n",
       "12605                                                 []             No   \n",
       "3228                    [(https://, https, t.co, t, co)]            Yes   \n",
       "10801  [(https://, https, t.co, t, co), (https://, ht...            Yes   \n",
       "12804                                                 []             No   \n",
       "11825                                                 []             No   \n",
       "19862                   [(https://, https, t.co, t, co)]            Yes   \n",
       "\n",
       "      cast_name                                         hashtags  \n",
       "23998            #WakandaForeverID #WakandaPorSiempre #supercine  \n",
       "1542                        #blackpanther #WakandaForever #regal  \n",
       "17345                                              #BlackPanther  \n",
       "8579                                             #WakandaForever  \n",
       "12605                                #BlackPantherWakandaForever  \n",
       "3228                                             #WakandaForever  \n",
       "10801                                            #wakandaforever  \n",
       "12804                                            #WakandaForever  \n",
       "11825                              #WakandaForever #BlackPanther  \n",
       "19862                                              #BlackPanther  "
      ]
     },
     "execution_count": 183,
     "metadata": {},
     "output_type": "execute_result"
    }
   ],
   "source": [
    "tweets.sample(10)"
   ]
  },
  {
   "cell_type": "code",
   "execution_count": null,
   "metadata": {},
   "outputs": [],
   "source": []
  },
  {
   "cell_type": "code",
   "execution_count": null,
   "metadata": {},
   "outputs": [],
   "source": []
  },
  {
   "cell_type": "code",
   "execution_count": null,
   "metadata": {},
   "outputs": [],
   "source": []
  },
  {
   "cell_type": "code",
   "execution_count": null,
   "metadata": {},
   "outputs": [],
   "source": []
  },
  {
   "cell_type": "code",
   "execution_count": null,
   "metadata": {},
   "outputs": [],
   "source": []
  },
  {
   "cell_type": "code",
   "execution_count": null,
   "metadata": {},
   "outputs": [],
   "source": []
  },
  {
   "cell_type": "code",
   "execution_count": null,
   "metadata": {},
   "outputs": [],
   "source": []
  },
  {
   "cell_type": "code",
   "execution_count": null,
   "metadata": {},
   "outputs": [],
   "source": []
  },
  {
   "cell_type": "code",
   "execution_count": null,
   "metadata": {},
   "outputs": [],
   "source": [
    "cv = tweets['location'].replace(np.nan, \"None\")"
   ]
  },
  {
   "cell_type": "code",
   "execution_count": null,
   "metadata": {},
   "outputs": [],
   "source": [
    "cv[cv.str.contains('IL')][:60]\n"
   ]
  },
  {
   "cell_type": "code",
   "execution_count": null,
   "metadata": {},
   "outputs": [],
   "source": []
  }
 ],
 "metadata": {
  "kernelspec": {
   "display_name": "Python 3.9.12 ('base')",
   "language": "python",
   "name": "python3"
  },
  "language_info": {
   "codemirror_mode": {
    "name": "ipython",
    "version": 3
   },
   "file_extension": ".py",
   "mimetype": "text/x-python",
   "name": "python",
   "nbconvert_exporter": "python",
   "pygments_lexer": "ipython3",
   "version": "3.9.12"
  },
  "orig_nbformat": 4,
  "vscode": {
   "interpreter": {
    "hash": "ad2bdc8ecc057115af97d19610ffacc2b4e99fae6737bb82f5d7fb13d2f2c186"
   }
  }
 },
 "nbformat": 4,
 "nbformat_minor": 2
}
